{
 "cells": [
  {
   "cell_type": "markdown",
   "metadata": {},
   "source": [
    "### 개요\n",
    "타이타닉은 역사상 가장 유명한 난파선 중 하나입니다.\n",
    "\n",
    "1912년 4월 15일, 타이타닉은 항해중 빙산과의 충돌로 인해 침몰합니다. 탑승인원 2224명 중 1502명이 사망한 비극적인 사건이었고, 선박의 안전규정을 개선시키는 계기가 되었습니다.\n",
    "\n",
    "이 과제에서는 여러분은 어떤 종류의 사람들이 많이 살아남았는지에 대한 분석을 해야 합니다.\n",
    "그리고 머신러닝을 이용해 어떤 승객이 생존했을지 예측해보세요."
   ]
  },
  {
   "cell_type": "markdown",
   "metadata": {},
   "source": [
    "### 규칙\n",
    "평가지표 : AUC"
   ]
  },
  {
   "cell_type": "markdown",
   "metadata": {},
   "source": [
    "### 컬럼\n",
    "- PassengerId : 탑승객의 고유 아이디\n",
    "- Survived : 생존유무(0 사망, 1 생존)\n",
    "- Pclass : 등실의 등급\n",
    "- Name : 이름\n",
    "- Sex : 성별\n",
    "- Age : 나이\n",
    "- SibSp : 함께 탑승한 형제자매, 아내, 남편의 수\n",
    "- Parch : 함께 탑승한 부모, 자식의 수\n",
    "- Ticket : 티켓번호\n",
    "- Fare : 티켓의 요금\n",
    "- Cabin : 객실번호\n",
    "- Embarked : 배에 탑승한 위치(C = Cherbourg, Q = Queenstown, S = Southampton)"
   ]
  },
  {
   "cell_type": "markdown",
   "metadata": {},
   "source": [
    "### 1. Import"
   ]
  },
  {
   "cell_type": "code",
   "execution_count": 76,
   "metadata": {},
   "outputs": [],
   "source": [
    "# Data Wrangling\n",
    "import numpy as np\n",
    "import pandas as pd\n",
    "from sklearn.preprocessing import LabelEncoder # 라벨 인코더\n",
    "from sklearn.preprocessing import OneHotEncoder # 원핫 인코더\n",
    "from sklearn.impute import SimpleImputer # 결측값 처리\n",
    "from sklearn.preprocessing import StandardScaler # 스케일러 - 분류문제 유용\n",
    "from sklearn.preprocessing import MinMaxScaler # 스케일러 - 회귀문제 유용\n",
    "from imblearn.over_sampling import SMOTE # 오버샘플링\n",
    "from imblearn.under_sampling import * # 언더샘플링\n",
    "from scipy.stats import skew, kurtosis # 왜도, 첨도\n",
    "from sklearn.decomposition import PCA\n",
    "\n",
    "# Visualization\n",
    "import seaborn as sns\n",
    "import matplotlib.pyplot as plt\n",
    "from lightgbm import plot_importance\n",
    "from sklearn.metrics import roc_curve\n",
    "import shap\n",
    "\n",
    "# Modeling\n",
    "from lightgbm import LGBMClassifier\n",
    "\n",
    "# Evaluation\n",
    "from sklearn.model_selection import cross_val_score\n",
    "\n",
    "# Utility\n",
    "import os\n",
    "import pickle\n",
    "import warnings; warnings.filterwarnings(action='ignore') # warning 메시지 안보이기\n",
    "from tqdm import tqdm # 진행률 확인\n",
    "from sklearn.model_selection import train_test_split # train, test 분리"
   ]
  },
  {
   "cell_type": "markdown",
   "metadata": {},
   "source": [
    "### 2. Read"
   ]
  },
  {
   "cell_type": "code",
   "execution_count": 77,
   "metadata": {},
   "outputs": [],
   "source": [
    "# 파일 불러오기\n",
    "train=pd.read_csv(os.path.abspath(\"../input\")+'/train.csv')\n",
    "test=pd.read_csv(os.path.abspath(\"../input\")+'/test.csv')\n",
    "submission=pd.read_csv(os.path.abspath(\"../input\")+'/submission.csv')"
   ]
  },
  {
   "cell_type": "code",
   "execution_count": 78,
   "metadata": {},
   "outputs": [
    {
     "data": {
      "text/html": [
       "<div>\n",
       "<style scoped>\n",
       "    .dataframe tbody tr th:only-of-type {\n",
       "        vertical-align: middle;\n",
       "    }\n",
       "\n",
       "    .dataframe tbody tr th {\n",
       "        vertical-align: top;\n",
       "    }\n",
       "\n",
       "    .dataframe thead th {\n",
       "        text-align: right;\n",
       "    }\n",
       "</style>\n",
       "<table border=\"1\" class=\"dataframe\">\n",
       "  <thead>\n",
       "    <tr style=\"text-align: right;\">\n",
       "      <th></th>\n",
       "      <th>PassengerId</th>\n",
       "      <th>Survived</th>\n",
       "      <th>Pclass</th>\n",
       "      <th>Name</th>\n",
       "      <th>Sex</th>\n",
       "      <th>Age</th>\n",
       "      <th>SibSp</th>\n",
       "      <th>Parch</th>\n",
       "      <th>Ticket</th>\n",
       "      <th>Fare</th>\n",
       "      <th>Cabin</th>\n",
       "      <th>Embarked</th>\n",
       "    </tr>\n",
       "  </thead>\n",
       "  <tbody>\n",
       "    <tr>\n",
       "      <th>0</th>\n",
       "      <td>1</td>\n",
       "      <td>0</td>\n",
       "      <td>3</td>\n",
       "      <td>Braund, Mr. Owen Harris</td>\n",
       "      <td>male</td>\n",
       "      <td>22.0</td>\n",
       "      <td>1</td>\n",
       "      <td>0</td>\n",
       "      <td>A/5 21171</td>\n",
       "      <td>7.2500</td>\n",
       "      <td>NaN</td>\n",
       "      <td>S</td>\n",
       "    </tr>\n",
       "    <tr>\n",
       "      <th>1</th>\n",
       "      <td>2</td>\n",
       "      <td>1</td>\n",
       "      <td>1</td>\n",
       "      <td>Cumings, Mrs. John Bradley (Florence Briggs Th...</td>\n",
       "      <td>female</td>\n",
       "      <td>38.0</td>\n",
       "      <td>1</td>\n",
       "      <td>0</td>\n",
       "      <td>PC 17599</td>\n",
       "      <td>71.2833</td>\n",
       "      <td>C85</td>\n",
       "      <td>C</td>\n",
       "    </tr>\n",
       "    <tr>\n",
       "      <th>2</th>\n",
       "      <td>3</td>\n",
       "      <td>1</td>\n",
       "      <td>3</td>\n",
       "      <td>Heikkinen, Miss. Laina</td>\n",
       "      <td>female</td>\n",
       "      <td>26.0</td>\n",
       "      <td>0</td>\n",
       "      <td>0</td>\n",
       "      <td>STON/O2. 3101282</td>\n",
       "      <td>7.9250</td>\n",
       "      <td>NaN</td>\n",
       "      <td>S</td>\n",
       "    </tr>\n",
       "  </tbody>\n",
       "</table>\n",
       "</div>"
      ],
      "text/plain": [
       "   PassengerId  Survived  Pclass  \\\n",
       "0            1         0       3   \n",
       "1            2         1       1   \n",
       "2            3         1       3   \n",
       "\n",
       "                                                Name     Sex   Age  SibSp  \\\n",
       "0                            Braund, Mr. Owen Harris    male  22.0      1   \n",
       "1  Cumings, Mrs. John Bradley (Florence Briggs Th...  female  38.0      1   \n",
       "2                             Heikkinen, Miss. Laina  female  26.0      0   \n",
       "\n",
       "   Parch            Ticket     Fare Cabin Embarked  \n",
       "0      0         A/5 21171   7.2500   NaN        S  \n",
       "1      0          PC 17599  71.2833   C85        C  \n",
       "2      0  STON/O2. 3101282   7.9250   NaN        S  "
      ]
     },
     "execution_count": 78,
     "metadata": {},
     "output_type": "execute_result"
    }
   ],
   "source": [
    "train.head(3)"
   ]
  },
  {
   "cell_type": "code",
   "execution_count": 79,
   "metadata": {},
   "outputs": [
    {
     "data": {
      "text/html": [
       "<div>\n",
       "<style scoped>\n",
       "    .dataframe tbody tr th:only-of-type {\n",
       "        vertical-align: middle;\n",
       "    }\n",
       "\n",
       "    .dataframe tbody tr th {\n",
       "        vertical-align: top;\n",
       "    }\n",
       "\n",
       "    .dataframe thead th {\n",
       "        text-align: right;\n",
       "    }\n",
       "</style>\n",
       "<table border=\"1\" class=\"dataframe\">\n",
       "  <thead>\n",
       "    <tr style=\"text-align: right;\">\n",
       "      <th></th>\n",
       "      <th>PassengerId</th>\n",
       "      <th>Pclass</th>\n",
       "      <th>Name</th>\n",
       "      <th>Sex</th>\n",
       "      <th>Age</th>\n",
       "      <th>SibSp</th>\n",
       "      <th>Parch</th>\n",
       "      <th>Ticket</th>\n",
       "      <th>Fare</th>\n",
       "      <th>Cabin</th>\n",
       "      <th>Embarked</th>\n",
       "    </tr>\n",
       "  </thead>\n",
       "  <tbody>\n",
       "    <tr>\n",
       "      <th>0</th>\n",
       "      <td>892</td>\n",
       "      <td>3</td>\n",
       "      <td>Kelly, Mr. James</td>\n",
       "      <td>male</td>\n",
       "      <td>34.5</td>\n",
       "      <td>0</td>\n",
       "      <td>0</td>\n",
       "      <td>330911</td>\n",
       "      <td>7.8292</td>\n",
       "      <td>NaN</td>\n",
       "      <td>Q</td>\n",
       "    </tr>\n",
       "    <tr>\n",
       "      <th>1</th>\n",
       "      <td>893</td>\n",
       "      <td>3</td>\n",
       "      <td>Wilkes, Mrs. James (Ellen Needs)</td>\n",
       "      <td>female</td>\n",
       "      <td>47.0</td>\n",
       "      <td>1</td>\n",
       "      <td>0</td>\n",
       "      <td>363272</td>\n",
       "      <td>7.0000</td>\n",
       "      <td>NaN</td>\n",
       "      <td>S</td>\n",
       "    </tr>\n",
       "    <tr>\n",
       "      <th>2</th>\n",
       "      <td>894</td>\n",
       "      <td>2</td>\n",
       "      <td>Myles, Mr. Thomas Francis</td>\n",
       "      <td>male</td>\n",
       "      <td>62.0</td>\n",
       "      <td>0</td>\n",
       "      <td>0</td>\n",
       "      <td>240276</td>\n",
       "      <td>9.6875</td>\n",
       "      <td>NaN</td>\n",
       "      <td>Q</td>\n",
       "    </tr>\n",
       "  </tbody>\n",
       "</table>\n",
       "</div>"
      ],
      "text/plain": [
       "   PassengerId  Pclass                              Name     Sex   Age  SibSp  \\\n",
       "0          892       3                  Kelly, Mr. James    male  34.5      0   \n",
       "1          893       3  Wilkes, Mrs. James (Ellen Needs)  female  47.0      1   \n",
       "2          894       2         Myles, Mr. Thomas Francis    male  62.0      0   \n",
       "\n",
       "   Parch  Ticket    Fare Cabin Embarked  \n",
       "0      0  330911  7.8292   NaN        Q  \n",
       "1      0  363272  7.0000   NaN        S  \n",
       "2      0  240276  9.6875   NaN        Q  "
      ]
     },
     "execution_count": 79,
     "metadata": {},
     "output_type": "execute_result"
    }
   ],
   "source": [
    "test.head(3)"
   ]
  },
  {
   "cell_type": "code",
   "execution_count": 80,
   "metadata": {},
   "outputs": [
    {
     "data": {
      "text/html": [
       "<div>\n",
       "<style scoped>\n",
       "    .dataframe tbody tr th:only-of-type {\n",
       "        vertical-align: middle;\n",
       "    }\n",
       "\n",
       "    .dataframe tbody tr th {\n",
       "        vertical-align: top;\n",
       "    }\n",
       "\n",
       "    .dataframe thead th {\n",
       "        text-align: right;\n",
       "    }\n",
       "</style>\n",
       "<table border=\"1\" class=\"dataframe\">\n",
       "  <thead>\n",
       "    <tr style=\"text-align: right;\">\n",
       "      <th></th>\n",
       "      <th>PassengerId</th>\n",
       "      <th>Survived</th>\n",
       "    </tr>\n",
       "  </thead>\n",
       "  <tbody>\n",
       "    <tr>\n",
       "      <th>0</th>\n",
       "      <td>892</td>\n",
       "      <td>0</td>\n",
       "    </tr>\n",
       "    <tr>\n",
       "      <th>1</th>\n",
       "      <td>893</td>\n",
       "      <td>1</td>\n",
       "    </tr>\n",
       "    <tr>\n",
       "      <th>2</th>\n",
       "      <td>894</td>\n",
       "      <td>0</td>\n",
       "    </tr>\n",
       "  </tbody>\n",
       "</table>\n",
       "</div>"
      ],
      "text/plain": [
       "   PassengerId  Survived\n",
       "0          892         0\n",
       "1          893         1\n",
       "2          894         0"
      ]
     },
     "execution_count": 80,
     "metadata": {},
     "output_type": "execute_result"
    }
   ],
   "source": [
    "submission.head(3)"
   ]
  },
  {
   "cell_type": "code",
   "execution_count": 81,
   "metadata": {},
   "outputs": [
    {
     "name": "stdout",
     "output_type": "stream",
     "text": [
      "<class 'pandas.core.frame.DataFrame'>\n",
      "RangeIndex: 891 entries, 0 to 890\n",
      "Data columns (total 12 columns):\n",
      " #   Column       Non-Null Count  Dtype  \n",
      "---  ------       --------------  -----  \n",
      " 0   PassengerId  891 non-null    int64  \n",
      " 1   Survived     891 non-null    int64  \n",
      " 2   Pclass       891 non-null    int64  \n",
      " 3   Name         891 non-null    object \n",
      " 4   Sex          891 non-null    object \n",
      " 5   Age          714 non-null    float64\n",
      " 6   SibSp        891 non-null    int64  \n",
      " 7   Parch        891 non-null    int64  \n",
      " 8   Ticket       891 non-null    object \n",
      " 9   Fare         891 non-null    float64\n",
      " 10  Cabin        204 non-null    object \n",
      " 11  Embarked     889 non-null    object \n",
      "dtypes: float64(2), int64(5), object(5)\n",
      "memory usage: 83.7+ KB\n"
     ]
    }
   ],
   "source": [
    "train.info()"
   ]
  },
  {
   "cell_type": "code",
   "execution_count": 82,
   "metadata": {},
   "outputs": [
    {
     "name": "stdout",
     "output_type": "stream",
     "text": [
      "<class 'pandas.core.frame.DataFrame'>\n",
      "RangeIndex: 418 entries, 0 to 417\n",
      "Data columns (total 11 columns):\n",
      " #   Column       Non-Null Count  Dtype  \n",
      "---  ------       --------------  -----  \n",
      " 0   PassengerId  418 non-null    int64  \n",
      " 1   Pclass       418 non-null    int64  \n",
      " 2   Name         418 non-null    object \n",
      " 3   Sex          418 non-null    object \n",
      " 4   Age          332 non-null    float64\n",
      " 5   SibSp        418 non-null    int64  \n",
      " 6   Parch        418 non-null    int64  \n",
      " 7   Ticket       418 non-null    object \n",
      " 8   Fare         417 non-null    float64\n",
      " 9   Cabin        91 non-null     object \n",
      " 10  Embarked     418 non-null    object \n",
      "dtypes: float64(2), int64(4), object(5)\n",
      "memory usage: 36.0+ KB\n"
     ]
    }
   ],
   "source": [
    "test.info()"
   ]
  },
  {
   "cell_type": "code",
   "execution_count": 83,
   "metadata": {},
   "outputs": [
    {
     "name": "stdout",
     "output_type": "stream",
     "text": [
      "<class 'pandas.core.frame.DataFrame'>\n",
      "RangeIndex: 418 entries, 0 to 417\n",
      "Data columns (total 2 columns):\n",
      " #   Column       Non-Null Count  Dtype\n",
      "---  ------       --------------  -----\n",
      " 0   PassengerId  418 non-null    int64\n",
      " 1   Survived     418 non-null    int64\n",
      "dtypes: int64(2)\n",
      "memory usage: 6.7 KB\n"
     ]
    }
   ],
   "source": [
    "submission.info()"
   ]
  },
  {
   "cell_type": "code",
   "execution_count": 84,
   "metadata": {},
   "outputs": [
    {
     "data": {
      "text/plain": [
       "((891, 12), (418, 11), (418, 2))"
      ]
     },
     "execution_count": 84,
     "metadata": {},
     "output_type": "execute_result"
    }
   ],
   "source": [
    "train.shape, test.shape, submission.shape"
   ]
  },
  {
   "cell_type": "markdown",
   "metadata": {},
   "source": [
    "### 3. Pre Data Processing"
   ]
  },
  {
   "cell_type": "markdown",
   "metadata": {},
   "source": [
    "#### 3.1. Settings"
   ]
  },
  {
   "cell_type": "code",
   "execution_count": 85,
   "metadata": {},
   "outputs": [],
   "source": [
    "# index 설정\n",
    "train.set_index('PassengerId', inplace=True)\n",
    "test.set_index('PassengerId', inplace=True)"
   ]
  },
  {
   "cell_type": "code",
   "execution_count": 86,
   "metadata": {},
   "outputs": [],
   "source": [
    "# train, test 병합\n",
    "df = pd.concat([train, test])"
   ]
  },
  {
   "cell_type": "code",
   "execution_count": 87,
   "metadata": {},
   "outputs": [
    {
     "name": "stdout",
     "output_type": "stream",
     "text": [
      "범주형 : ['Name', 'Sex', 'Ticket', 'Cabin', 'Embarked']\n",
      "수치형 : ['Pclass', 'Age', 'SibSp', 'Parch', 'Fare']\n"
     ]
    }
   ],
   "source": [
    "# 범주형과 수치형 분리\n",
    "features_cat = train.select_dtypes(include=['object']).columns.to_list()\n",
    "features_num = train.select_dtypes(exclude='object').drop(['Survived'], axis=1).columns.to_list()\n",
    "print('범주형 :', features_cat)\n",
    "print('수치형 :', features_num)"
   ]
  },
  {
   "cell_type": "markdown",
   "metadata": {},
   "source": [
    "#### 3.2. Processing"
   ]
  },
  {
   "cell_type": "markdown",
   "metadata": {},
   "source": [
    "##### 3.2.1. Object"
   ]
  },
  {
   "cell_type": "markdown",
   "metadata": {},
   "source": [
    "*1) Name*"
   ]
  },
  {
   "cell_type": "code",
   "execution_count": 88,
   "metadata": {},
   "outputs": [
    {
     "name": "stdout",
     "output_type": "stream",
     "text": [
      "범주 수 : 1307\n",
      "결측치 수 : 0\n",
      "===============\n",
      "Kelly, Mr. James                                        2\n",
      "Connolly, Miss. Kate                                    2\n",
      "Bidois, Miss. Rosalie                                   1\n",
      "Humblen, Mr. Adolf Mathias Nicolai Olsen                1\n",
      "Rice, Master. Arthur                                    1\n",
      "                                                       ..\n",
      "Willey, Mr. Edward                                      1\n",
      "Emir, Mr. Farred Chehab                                 1\n",
      "Rice, Master. Eric                                      1\n",
      "Hakkarainen, Mrs. Pekka Pietari (Elin Matilda Dolck)    1\n",
      "Hassab, Mr. Hammad                                      1\n",
      "Name: Name, Length: 1307, dtype: int64\n"
     ]
    }
   ],
   "source": [
    "print('범주 수 :', df['Name'].nunique())\n",
    "print('결측치 수 :', df['Name'].isnull().sum())\n",
    "print('===============')\n",
    "print(df['Name'].value_counts())"
   ]
  },
  {
   "cell_type": "code",
   "execution_count": 89,
   "metadata": {},
   "outputs": [],
   "source": [
    "df['Title'] = df['Name'].str.split(', ').str[1].str.split('. ').str[0]"
   ]
  },
  {
   "cell_type": "code",
   "execution_count": 90,
   "metadata": {
    "scrolled": true
   },
   "outputs": [
    {
     "name": "stdout",
     "output_type": "stream",
     "text": [
      "범주 수 : 18\n",
      "결측치 수 : 0\n",
      "===============\n",
      "Mr          757\n",
      "Miss        260\n",
      "Mrs         197\n",
      "Master       61\n",
      "Rev           8\n",
      "Dr            8\n",
      "Col           4\n",
      "Mlle          2\n",
      "Ms            2\n",
      "Major         2\n",
      "th            1\n",
      "Capt          1\n",
      "Mme           1\n",
      "Sir           1\n",
      "Dona          1\n",
      "Don           1\n",
      "Jonkheer      1\n",
      "Lady          1\n",
      "Name: Title, dtype: int64\n"
     ]
    }
   ],
   "source": [
    "print('범주 수 :', df['Title'].nunique())\n",
    "print('결측치 수 :', df['Title'].isnull().sum())\n",
    "print('===============')\n",
    "print(df['Title'].value_counts())"
   ]
  },
  {
   "cell_type": "code",
   "execution_count": 91,
   "metadata": {},
   "outputs": [],
   "source": [
    "df['Title'] = np.where((df['Title']!='Mr')&(df['Title']!='Miss')&(df['Title']!='Mrs')&(df['Title']!='Master'), 'Etc', df['Title'])"
   ]
  },
  {
   "cell_type": "code",
   "execution_count": 92,
   "metadata": {},
   "outputs": [
    {
     "name": "stdout",
     "output_type": "stream",
     "text": [
      "범주 수 : 5\n",
      "결측치 수 : 0\n",
      "===============\n",
      "Mr        757\n",
      "Miss      260\n",
      "Mrs       197\n",
      "Master     61\n",
      "Etc        34\n",
      "Name: Title, dtype: int64\n"
     ]
    }
   ],
   "source": [
    "print('범주 수 :', df['Title'].nunique())\n",
    "print('결측치 수 :', df['Title'].isnull().sum())\n",
    "print('===============')\n",
    "print(df['Title'].value_counts())"
   ]
  },
  {
   "cell_type": "code",
   "execution_count": 93,
   "metadata": {},
   "outputs": [],
   "source": [
    "df.drop(['Name'], axis=1, inplace=True)"
   ]
  },
  {
   "cell_type": "markdown",
   "metadata": {},
   "source": [
    "*2) Sex*"
   ]
  },
  {
   "cell_type": "code",
   "execution_count": 94,
   "metadata": {},
   "outputs": [
    {
     "name": "stdout",
     "output_type": "stream",
     "text": [
      "범주 수 : 2\n",
      "결측치 수 : 0\n",
      "===============\n",
      "male      577\n",
      "female    314\n",
      "Name: Sex, dtype: int64\n"
     ]
    }
   ],
   "source": [
    "print('범주 수 :', df['Sex'].nunique())\n",
    "print('결측치 수 :', df['Sex'].isnull().sum())\n",
    "print('===============')\n",
    "print(train['Sex'].value_counts())"
   ]
  },
  {
   "cell_type": "markdown",
   "metadata": {},
   "source": [
    "*3) Ticket*"
   ]
  },
  {
   "cell_type": "code",
   "execution_count": 95,
   "metadata": {
    "scrolled": true
   },
   "outputs": [
    {
     "name": "stdout",
     "output_type": "stream",
     "text": [
      "범주 수 : 929\n",
      "결측치 수 : 0\n",
      "===============\n",
      "CA. 2343              11\n",
      "1601                   8\n",
      "CA 2144                8\n",
      "S.O.C. 14879           7\n",
      "347082                 7\n",
      "                      ..\n",
      "315084                 1\n",
      "250643                 1\n",
      "366713                 1\n",
      "2671                   1\n",
      "SOTON/O.Q. 3101305     1\n",
      "Name: Ticket, Length: 929, dtype: int64\n"
     ]
    }
   ],
   "source": [
    "print('범주 수 :', df['Ticket'].nunique())\n",
    "print('결측치 수 :', df['Ticket'].isnull().sum())\n",
    "print('===============')\n",
    "print(df['Ticket'].value_counts())"
   ]
  },
  {
   "cell_type": "code",
   "execution_count": 96,
   "metadata": {},
   "outputs": [],
   "source": [
    "df['Ticket_type'] = np.where(df['Ticket'].str.isnumeric(),'num','str')"
   ]
  },
  {
   "cell_type": "code",
   "execution_count": 97,
   "metadata": {},
   "outputs": [
    {
     "name": "stdout",
     "output_type": "stream",
     "text": [
      "범주 수 : 2\n",
      "결측치 수 : 0\n",
      "===============\n",
      "num    957\n",
      "str    352\n",
      "Name: Ticket_type, dtype: int64\n"
     ]
    }
   ],
   "source": [
    "print('범주 수 :', df['Ticket_type'].nunique())\n",
    "print('결측치 수 :', df['Ticket_type'].isnull().sum())\n",
    "print('===============')\n",
    "print(df['Ticket_type'].value_counts())"
   ]
  },
  {
   "cell_type": "code",
   "execution_count": 98,
   "metadata": {},
   "outputs": [],
   "source": [
    "df.drop(['Ticket'], axis=1, inplace=True)"
   ]
  },
  {
   "cell_type": "markdown",
   "metadata": {},
   "source": [
    "*4) Cabin*"
   ]
  },
  {
   "cell_type": "code",
   "execution_count": 99,
   "metadata": {},
   "outputs": [
    {
     "name": "stdout",
     "output_type": "stream",
     "text": [
      "범주 수 : 186\n",
      "결측치 수 : 1014\n",
      "===============\n",
      "C23 C25 C27        6\n",
      "G6                 5\n",
      "B57 B59 B63 B66    5\n",
      "F4                 4\n",
      "F33                4\n",
      "                  ..\n",
      "C90                1\n",
      "E17                1\n",
      "C103               1\n",
      "C49                1\n",
      "A18                1\n",
      "Name: Cabin, Length: 186, dtype: int64\n"
     ]
    }
   ],
   "source": [
    "print('범주 수 :', df['Cabin'].nunique())\n",
    "print('결측치 수 :', df['Cabin'].isnull().sum())\n",
    "print('===============')\n",
    "print(df['Cabin'].value_counts())"
   ]
  },
  {
   "cell_type": "code",
   "execution_count": 100,
   "metadata": {},
   "outputs": [],
   "source": [
    "df['Cabin_nan'] = np.where(df['Cabin'].isnull(), 0, 1).astype('object')"
   ]
  },
  {
   "cell_type": "code",
   "execution_count": 101,
   "metadata": {},
   "outputs": [
    {
     "name": "stdout",
     "output_type": "stream",
     "text": [
      "범주 수 : 2\n",
      "결측치 수 : 0\n",
      "===============\n",
      "0    1014\n",
      "1     295\n",
      "Name: Cabin_nan, dtype: int64\n"
     ]
    }
   ],
   "source": [
    "print('범주 수 :', df['Cabin_nan'].nunique())\n",
    "print('결측치 수 :', df['Cabin_nan'].isnull().sum())\n",
    "print('===============')\n",
    "print(df['Cabin_nan'].value_counts())"
   ]
  },
  {
   "cell_type": "code",
   "execution_count": 102,
   "metadata": {},
   "outputs": [],
   "source": [
    "df['Cabin_num'] = np.where(df['Cabin'].str.len()<=4,1,np.where(df['Cabin'].str.len()<=7,2,np.where(df['Cabin'].str.len()<=11,3,np.where(df['Cabin'].str.len()<=15,4,0))))"
   ]
  },
  {
   "cell_type": "code",
   "execution_count": 103,
   "metadata": {},
   "outputs": [
    {
     "name": "stdout",
     "output_type": "stream",
     "text": [
      "범주 수 : 5\n",
      "결측치 수 : 0\n",
      "===============\n",
      "0    1014\n",
      "1     254\n",
      "2      26\n",
      "3      10\n",
      "4       5\n",
      "Name: Cabin_num, dtype: int64\n"
     ]
    }
   ],
   "source": [
    "print('범주 수 :', df['Cabin_num'].nunique())\n",
    "print('결측치 수 :', df['Cabin_num'].isnull().sum())\n",
    "print('===============')\n",
    "print(df['Cabin_num'].value_counts())"
   ]
  },
  {
   "cell_type": "code",
   "execution_count": 104,
   "metadata": {},
   "outputs": [],
   "source": [
    "df['Cabin_type'] = np.where(df['Cabin'].isnull(), 'X', df['Cabin'].str[0])"
   ]
  },
  {
   "cell_type": "code",
   "execution_count": 105,
   "metadata": {},
   "outputs": [
    {
     "name": "stdout",
     "output_type": "stream",
     "text": [
      "범주 수 : 9\n",
      "결측치 수 : 0\n",
      "===============\n",
      "X    1014\n",
      "C      94\n",
      "B      65\n",
      "D      46\n",
      "E      41\n",
      "A      22\n",
      "F      21\n",
      "G       5\n",
      "T       1\n",
      "Name: Cabin_type, dtype: int64\n"
     ]
    }
   ],
   "source": [
    "print('범주 수 :', df['Cabin_type'].nunique())\n",
    "print('결측치 수 :', df['Cabin_type'].isnull().sum())\n",
    "print('===============')\n",
    "print(df['Cabin_type'].value_counts())"
   ]
  },
  {
   "cell_type": "code",
   "execution_count": 106,
   "metadata": {},
   "outputs": [],
   "source": [
    "df.drop(['Cabin'], axis=1, inplace=True)"
   ]
  },
  {
   "cell_type": "markdown",
   "metadata": {},
   "source": [
    "*5) Embarked*"
   ]
  },
  {
   "cell_type": "code",
   "execution_count": 107,
   "metadata": {},
   "outputs": [
    {
     "name": "stdout",
     "output_type": "stream",
     "text": [
      "범주 수 : 3\n",
      "결측치 수 : 2\n",
      "===============\n",
      "S    914\n",
      "C    270\n",
      "Q    123\n",
      "Name: Embarked, dtype: int64\n"
     ]
    }
   ],
   "source": [
    "print('범주 수 :', df['Embarked'].nunique())\n",
    "print('결측치 수 :', df['Embarked'].isnull().sum())\n",
    "print('===============')\n",
    "print(df['Embarked'].value_counts())"
   ]
  },
  {
   "cell_type": "markdown",
   "metadata": {},
   "source": [
    "##### 3.2.2. Numeric"
   ]
  },
  {
   "cell_type": "markdown",
   "metadata": {},
   "source": [
    "*1) Pclass*"
   ]
  },
  {
   "cell_type": "code",
   "execution_count": 108,
   "metadata": {},
   "outputs": [
    {
     "name": "stdout",
     "output_type": "stream",
     "text": [
      "결측치 수 : 0\n",
      "=======t=======\n",
      "1    323\n",
      "2    277\n",
      "3    709\n",
      "Name: Pclass, dtype: int64\n"
     ]
    }
   ],
   "source": [
    "print('결측치 수 :', df['Pclass'].isnull().sum())\n",
    "print('=======t=======')\n",
    "print(df['Pclass'].value_counts().sort_index())"
   ]
  },
  {
   "cell_type": "code",
   "execution_count": 109,
   "metadata": {},
   "outputs": [],
   "source": [
    "df['Pclass'] = df['Pclass'].astype('object')"
   ]
  },
  {
   "cell_type": "markdown",
   "metadata": {},
   "source": [
    "*2) Age*"
   ]
  },
  {
   "cell_type": "code",
   "execution_count": 110,
   "metadata": {},
   "outputs": [
    {
     "name": "stdout",
     "output_type": "stream",
     "text": [
      "결측치 수 : 263\n",
      "===============\n",
      "0.17     1\n",
      "0.33     1\n",
      "0.42     1\n",
      "0.67     1\n",
      "0.75     3\n",
      "        ..\n",
      "70.50    1\n",
      "71.00    2\n",
      "74.00    1\n",
      "76.00    1\n",
      "80.00    1\n",
      "Name: Age, Length: 98, dtype: int64\n"
     ]
    }
   ],
   "source": [
    "print('결측치 수 :', df['Age'].isnull().sum())\n",
    "print('===============')\n",
    "print(df['Age'].value_counts().sort_index())"
   ]
  },
  {
   "cell_type": "code",
   "execution_count": 111,
   "metadata": {},
   "outputs": [],
   "source": [
    "df['Age_type'] = np.where(df['Age']<10,0,np.where(df['Age']<20,1,np.where(df['Age']<30,2,np.where(df['Age']<40,3,np.where(df['Age']<50,4,np.where(df['Age']<60,5,np.where(df['Age']<70,6,np.where(df['Age']<200,7,df['Age'])))))))).astype('object')"
   ]
  },
  {
   "cell_type": "code",
   "execution_count": 112,
   "metadata": {},
   "outputs": [
    {
     "name": "stdout",
     "output_type": "stream",
     "text": [
      "결측치 수 : 263\n",
      "===============\n",
      "0.0     82\n",
      "1.0    143\n",
      "2.0    344\n",
      "3.0    232\n",
      "4.0    135\n",
      "5.0     70\n",
      "6.0     32\n",
      "7.0      8\n",
      "Name: Age_type, dtype: int64\n"
     ]
    }
   ],
   "source": [
    "print('결측치 수 :', df['Age_type'].isnull().sum())\n",
    "print('===============')\n",
    "print(df['Age_type'].value_counts().sort_index())"
   ]
  },
  {
   "cell_type": "markdown",
   "metadata": {},
   "source": [
    "*3) SibSp*"
   ]
  },
  {
   "cell_type": "code",
   "execution_count": 113,
   "metadata": {},
   "outputs": [
    {
     "name": "stdout",
     "output_type": "stream",
     "text": [
      "결측치 수 : 0\n",
      "===============\n",
      "0    891\n",
      "1    319\n",
      "2     42\n",
      "3     20\n",
      "4     22\n",
      "5      6\n",
      "8      9\n",
      "Name: SibSp, dtype: int64\n"
     ]
    }
   ],
   "source": [
    "print('결측치 수 :', df.SibSp.isnull().sum())\n",
    "print('===============')\n",
    "print(df.SibSp.value_counts().sort_index())"
   ]
  },
  {
   "cell_type": "markdown",
   "metadata": {},
   "source": [
    "*4) Parch*"
   ]
  },
  {
   "cell_type": "code",
   "execution_count": 114,
   "metadata": {},
   "outputs": [
    {
     "name": "stdout",
     "output_type": "stream",
     "text": [
      "결측치 수 : 0\n",
      "===============\n",
      "0    1002\n",
      "1     170\n",
      "2     113\n",
      "3       8\n",
      "4       6\n",
      "5       6\n",
      "6       2\n",
      "9       2\n",
      "Name: Parch, dtype: int64\n"
     ]
    }
   ],
   "source": [
    "print('결측치 수 :', df.Parch.isnull().sum())\n",
    "print('===============')\n",
    "print(df.Parch.value_counts().sort_index())"
   ]
  },
  {
   "cell_type": "markdown",
   "metadata": {},
   "source": [
    "*5) Fare*"
   ]
  },
  {
   "cell_type": "code",
   "execution_count": 115,
   "metadata": {},
   "outputs": [
    {
     "name": "stdout",
     "output_type": "stream",
     "text": [
      "결측치 수 : 1\n",
      "===============\n",
      "0.0000      17\n",
      "3.1708       1\n",
      "4.0125       1\n",
      "5.0000       1\n",
      "6.2375       1\n",
      "            ..\n",
      "227.5250     5\n",
      "247.5208     3\n",
      "262.3750     7\n",
      "263.0000     6\n",
      "512.3292     4\n",
      "Name: Fare, Length: 281, dtype: int64\n"
     ]
    }
   ],
   "source": [
    "print('결측치 수 :', df.Fare.isnull().sum())\n",
    "print('===============')\n",
    "print(df.Fare.value_counts().sort_index())"
   ]
  },
  {
   "cell_type": "markdown",
   "metadata": {},
   "source": [
    "#### 3.4. Divide"
   ]
  },
  {
   "cell_type": "code",
   "execution_count": 116,
   "metadata": {},
   "outputs": [],
   "source": [
    "# df에서 train, test 분리\n",
    "train = df[:len(train)]\n",
    "test = df[len(train):].drop(['Survived'], axis=1) # test에서 Target 제거"
   ]
  },
  {
   "cell_type": "markdown",
   "metadata": {},
   "source": [
    "### 4. EDA"
   ]
  },
  {
   "cell_type": "markdown",
   "metadata": {},
   "source": [
    "#### 4.1. Settings"
   ]
  },
  {
   "cell_type": "code",
   "execution_count": 117,
   "metadata": {},
   "outputs": [],
   "source": [
    "# 수치형과 범주형 분리\n",
    "features_cat = train.select_dtypes(include=['object']).columns.to_list()\n",
    "features_num = train.select_dtypes(exclude='object').drop(['Survived'], axis=1).columns.to_list()"
   ]
  },
  {
   "cell_type": "code",
   "execution_count": 118,
   "metadata": {},
   "outputs": [
    {
     "data": {
      "text/plain": [
       "<Figure size 432x288 with 0 Axes>"
      ]
     },
     "metadata": {},
     "output_type": "display_data"
    }
   ],
   "source": [
    "fig = plt.figure(figsize=(6,4)) # 그래프 사이즈\n",
    "sns.set_style('white') # 그래프 배경 색 설정"
   ]
  },
  {
   "cell_type": "markdown",
   "metadata": {},
   "source": [
    "#### 4.2. Target"
   ]
  },
  {
   "cell_type": "code",
   "execution_count": 119,
   "metadata": {},
   "outputs": [
    {
     "name": "stdout",
     "output_type": "stream",
     "text": [
      "0.0    0.616162\n",
      "1.0    0.383838\n",
      "Name: Survived, dtype: float64\n"
     ]
    },
    {
     "data": {
      "text/plain": [
       "<AxesSubplot:xlabel='Survived', ylabel='count'>"
      ]
     },
     "execution_count": 119,
     "metadata": {},
     "output_type": "execute_result"
    },
    {
     "data": {
      "image/png": "[encoded data removed]",
      "text/plain": [
       "<Figure size 432x288 with 1 Axes>"
      ]
     },
     "metadata": {},
     "output_type": "display_data"
    }
   ],
   "source": [
    "print(train.Survived.value_counts(normalize=True)) # Target 비율\n",
    "sns.countplot(x='Survived', data=train) # Target 수 그래프"
   ]
  },
  {
   "cell_type": "markdown",
   "metadata": {},
   "source": [
    "#### 4.3. Object"
   ]
  },
  {
   "cell_type": "code",
   "execution_count": 120,
   "metadata": {
    "scrolled": false
   },
   "outputs": [
    {
     "data": {
      "image/png": "[encoded data removed]",
      "text/plain": [
       "<Figure size 432x2304 with 8 Axes>"
      ]
     },
     "metadata": {},
     "output_type": "display_data"
    }
   ],
   "source": [
    "fig, ax = plt.subplots(nrows=len(features_cat), figsize=(6, 4*len(features_cat)))\n",
    "for i in range(len(features_cat)):\n",
    "    sns.countplot(x=features_cat[i], hue='Survived', data=train, ax=ax[i])"
   ]
  },
  {
   "cell_type": "markdown",
   "metadata": {},
   "source": [
    "#### 4.4. Numeric"
   ]
  },
  {
   "cell_type": "code",
   "execution_count": 121,
   "metadata": {
    "scrolled": false
   },
   "outputs": [
    {
     "data": {
      "image/png": "[encoded data removed]",
      "text/plain": [
       "<Figure size 432x1440 with 5 Axes>"
      ]
     },
     "metadata": {},
     "output_type": "display_data"
    }
   ],
   "source": [
    "fig, ax = plt.subplots(nrows=len(features_num), figsize=(6, 4*len(features_num)))\n",
    "for i in range(len(features_num)):\n",
    "    sns.histplot(x=features_num[i], hue='Survived', data=train, kde=True, ax=ax[i])"
   ]
  },
  {
   "cell_type": "code",
   "execution_count": 122,
   "metadata": {},
   "outputs": [
    {
     "data": {
      "text/plain": [
       "<seaborn.matrix.ClusterGrid at 0x24c5a4defa0>"
      ]
     },
     "execution_count": 122,
     "metadata": {},
     "output_type": "execute_result"
    },
    {
     "data": {
      "text/plain": [
       "<Figure size 2160x1440 with 0 Axes>"
      ]
     },
     "metadata": {},
     "output_type": "display_data"
    },
    {
     "data": {
      "image/png": "[encoded data removed]",
      "text/plain": [
       "<Figure size 720x720 with 4 Axes>"
      ]
     },
     "metadata": {},
     "output_type": "display_data"
    }
   ],
   "source": [
    "fig = plt.figure(figsize=(6*len(features_num),4*len(features_num))) # 그래프 사이즈\n",
    "sns.clustermap(train[features_num].corr(), annot=True, cmap='RdBu', vmin=-1, vmax=1)"
   ]
  },
  {
   "cell_type": "markdown",
   "metadata": {},
   "source": [
    "#### 4.5. Missing Value"
   ]
  },
  {
   "cell_type": "code",
   "execution_count": 123,
   "metadata": {},
   "outputs": [],
   "source": [
    "# train, test 병합\n",
    "df = pd.concat([train, test])"
   ]
  },
  {
   "cell_type": "code",
   "execution_count": 124,
   "metadata": {},
   "outputs": [
    {
     "data": {
      "text/plain": [
       "<AxesSubplot:ylabel='PassengerId'>"
      ]
     },
     "execution_count": 124,
     "metadata": {},
     "output_type": "execute_result"
    },
    {
     "data": {
      "image/png": "[encoded data removed]",
      "text/plain": [
       "<Figure size 1008x1008 with 1 Axes>"
      ]
     },
     "metadata": {},
     "output_type": "display_data"
    }
   ],
   "source": [
    "fig = plt.figure(figsize=(len(df.columns),len(df.columns))) # 그래프 사이즈\n",
    "sns.heatmap(df.isnull(), yticklabels=False, cbar=False, cmap='viridis')"
   ]
  },
  {
   "cell_type": "markdown",
   "metadata": {},
   "source": [
    "### 5. Processing"
   ]
  },
  {
   "cell_type": "markdown",
   "metadata": {},
   "source": [
    "#### 5.1. Settings"
   ]
  },
  {
   "cell_type": "code",
   "execution_count": 125,
   "metadata": {},
   "outputs": [],
   "source": [
    "# 수치형과 범주형 분리\n",
    "features_num = train.drop(['Survived'], axis=1).select_dtypes(exclude='object').columns.to_list()\n",
    "features_cat = train.drop(['Survived'], axis=1).select_dtypes(include=['object']).columns.to_list()"
   ]
  },
  {
   "cell_type": "markdown",
   "metadata": {},
   "source": [
    "#### 5.2. Missing Value"
   ]
  },
  {
   "cell_type": "code",
   "execution_count": 126,
   "metadata": {},
   "outputs": [
    {
     "data": {
      "text/plain": [
       "Survived       418\n",
       "Pclass           0\n",
       "Sex              0\n",
       "Age            263\n",
       "SibSp            0\n",
       "Parch            0\n",
       "Fare             1\n",
       "Embarked         2\n",
       "Title            0\n",
       "Ticket_type      0\n",
       "Cabin_nan        0\n",
       "Cabin_num        0\n",
       "Cabin_type       0\n",
       "Age_type       263\n",
       "dtype: int64"
      ]
     },
     "execution_count": 126,
     "metadata": {},
     "output_type": "execute_result"
    }
   ],
   "source": [
    "df.isnull().sum()"
   ]
  },
  {
   "cell_type": "markdown",
   "metadata": {},
   "source": [
    "*1) Age*"
   ]
  },
  {
   "cell_type": "code",
   "execution_count": 127,
   "metadata": {},
   "outputs": [
    {
     "name": "stdout",
     "output_type": "stream",
     "text": [
      "177\n",
      "86\n"
     ]
    }
   ],
   "source": [
    "# 결측치 처리 전 결측치 수 확인\n",
    "print(train.Age.isnull().sum())\n",
    "print(test.Age.isnull().sum())"
   ]
  },
  {
   "cell_type": "code",
   "execution_count": 128,
   "metadata": {},
   "outputs": [],
   "source": [
    "# 결측치 처리\n",
    "train['Age'] = train['Age'].fillna(train.groupby('Title')['Age'].transform('mean'))\n",
    "test['Age'] = test['Age'].fillna(test.groupby('Title')['Age'].transform('mean'))"
   ]
  },
  {
   "cell_type": "code",
   "execution_count": 129,
   "metadata": {},
   "outputs": [
    {
     "name": "stdout",
     "output_type": "stream",
     "text": [
      "0\n",
      "0\n"
     ]
    }
   ],
   "source": [
    "# 결측치 처리 후 결측치 수 확인\n",
    "print(train.Age.isnull().sum())\n",
    "print(test.Age.isnull().sum())"
   ]
  },
  {
   "cell_type": "markdown",
   "metadata": {},
   "source": [
    "*2) Fare*"
   ]
  },
  {
   "cell_type": "code",
   "execution_count": 130,
   "metadata": {
    "scrolled": true
   },
   "outputs": [
    {
     "name": "stdout",
     "output_type": "stream",
     "text": [
      "0\n",
      "1\n"
     ]
    }
   ],
   "source": [
    "# 결측치 처리 후 결측치 수 확인\n",
    "print(train.Fare.isnull().sum())\n",
    "print(test.Fare.isnull().sum())"
   ]
  },
  {
   "cell_type": "code",
   "execution_count": 131,
   "metadata": {},
   "outputs": [],
   "source": [
    "# 결측치 처리\n",
    "test['Fare'] = test['Fare'].fillna(test.groupby('Pclass')['Fare'].transform('mean'))"
   ]
  },
  {
   "cell_type": "code",
   "execution_count": 132,
   "metadata": {},
   "outputs": [
    {
     "name": "stdout",
     "output_type": "stream",
     "text": [
      "0\n",
      "0\n"
     ]
    }
   ],
   "source": [
    "# 결측치 처리 후 결측치 수 확인\n",
    "print(train.Age.isnull().sum())\n",
    "print(test.Age.isnull().sum())"
   ]
  },
  {
   "cell_type": "markdown",
   "metadata": {},
   "source": [
    "*3) Embarked*"
   ]
  },
  {
   "cell_type": "code",
   "execution_count": 133,
   "metadata": {},
   "outputs": [
    {
     "name": "stdout",
     "output_type": "stream",
     "text": [
      "2\n",
      "0\n"
     ]
    }
   ],
   "source": [
    "# 결측치 처리 후 결측치 수 확인\n",
    "print(train.Embarked.isnull().sum())\n",
    "print(test.Embarked.isnull().sum())"
   ]
  },
  {
   "cell_type": "code",
   "execution_count": 134,
   "metadata": {},
   "outputs": [
    {
     "data": {
      "text/html": [
       "<div>\n",
       "<style scoped>\n",
       "    .dataframe tbody tr th:only-of-type {\n",
       "        vertical-align: middle;\n",
       "    }\n",
       "\n",
       "    .dataframe tbody tr th {\n",
       "        vertical-align: top;\n",
       "    }\n",
       "\n",
       "    .dataframe thead th {\n",
       "        text-align: right;\n",
       "    }\n",
       "</style>\n",
       "<table border=\"1\" class=\"dataframe\">\n",
       "  <thead>\n",
       "    <tr style=\"text-align: right;\">\n",
       "      <th></th>\n",
       "      <th>Survived</th>\n",
       "      <th>Pclass</th>\n",
       "      <th>Sex</th>\n",
       "      <th>Age</th>\n",
       "      <th>SibSp</th>\n",
       "      <th>Parch</th>\n",
       "      <th>Fare</th>\n",
       "      <th>Embarked</th>\n",
       "      <th>Title</th>\n",
       "      <th>Ticket_type</th>\n",
       "      <th>Cabin_nan</th>\n",
       "      <th>Cabin_num</th>\n",
       "      <th>Cabin_type</th>\n",
       "      <th>Age_type</th>\n",
       "    </tr>\n",
       "    <tr>\n",
       "      <th>PassengerId</th>\n",
       "      <th></th>\n",
       "      <th></th>\n",
       "      <th></th>\n",
       "      <th></th>\n",
       "      <th></th>\n",
       "      <th></th>\n",
       "      <th></th>\n",
       "      <th></th>\n",
       "      <th></th>\n",
       "      <th></th>\n",
       "      <th></th>\n",
       "      <th></th>\n",
       "      <th></th>\n",
       "      <th></th>\n",
       "    </tr>\n",
       "  </thead>\n",
       "  <tbody>\n",
       "    <tr>\n",
       "      <th>62</th>\n",
       "      <td>1.0</td>\n",
       "      <td>1</td>\n",
       "      <td>female</td>\n",
       "      <td>38.0</td>\n",
       "      <td>0</td>\n",
       "      <td>0</td>\n",
       "      <td>80.0</td>\n",
       "      <td>NaN</td>\n",
       "      <td>Miss</td>\n",
       "      <td>num</td>\n",
       "      <td>1</td>\n",
       "      <td>1</td>\n",
       "      <td>B</td>\n",
       "      <td>3</td>\n",
       "    </tr>\n",
       "    <tr>\n",
       "      <th>830</th>\n",
       "      <td>1.0</td>\n",
       "      <td>1</td>\n",
       "      <td>female</td>\n",
       "      <td>62.0</td>\n",
       "      <td>0</td>\n",
       "      <td>0</td>\n",
       "      <td>80.0</td>\n",
       "      <td>NaN</td>\n",
       "      <td>Mrs</td>\n",
       "      <td>num</td>\n",
       "      <td>1</td>\n",
       "      <td>1</td>\n",
       "      <td>B</td>\n",
       "      <td>6</td>\n",
       "    </tr>\n",
       "  </tbody>\n",
       "</table>\n",
       "</div>"
      ],
      "text/plain": [
       "             Survived Pclass     Sex   Age  SibSp  Parch  Fare Embarked Title  \\\n",
       "PassengerId                                                                     \n",
       "62                1.0      1  female  38.0      0      0  80.0      NaN  Miss   \n",
       "830               1.0      1  female  62.0      0      0  80.0      NaN   Mrs   \n",
       "\n",
       "            Ticket_type Cabin_nan  Cabin_num Cabin_type Age_type  \n",
       "PassengerId                                                       \n",
       "62                  num         1          1          B        3  \n",
       "830                 num         1          1          B        6  "
      ]
     },
     "execution_count": 134,
     "metadata": {},
     "output_type": "execute_result"
    }
   ],
   "source": [
    "# 결측 데이터 확인\n",
    "train[train['Embarked'].isnull()]"
   ]
  },
  {
   "cell_type": "code",
   "execution_count": 135,
   "metadata": {
    "scrolled": false
   },
   "outputs": [
    {
     "data": {
      "image/png": "[encoded data removed]",
      "text/plain": [
       "<Figure size 432x2304 with 8 Axes>"
      ]
     },
     "metadata": {},
     "output_type": "display_data"
    }
   ],
   "source": [
    "fig, ax = plt.subplots(nrows=len(features_cat), figsize=(6, 4*len(features_cat)))\n",
    "for i in range(len(features_cat)):\n",
    "    sns.countplot(x=features_cat[i], hue='Embarked', data=train, ax=ax[i])"
   ]
  },
  {
   "cell_type": "code",
   "execution_count": 136,
   "metadata": {},
   "outputs": [],
   "source": [
    "# 결측 데이터의 Pclass에 따라 결측치 처리\n",
    "train['Embarked'] = train['Embarked'].fillna('S')"
   ]
  },
  {
   "cell_type": "code",
   "execution_count": 137,
   "metadata": {},
   "outputs": [
    {
     "name": "stdout",
     "output_type": "stream",
     "text": [
      "0\n",
      "0\n"
     ]
    }
   ],
   "source": [
    "# 결측치 처리 후 결측치 수 확인\n",
    "print(train.Embarked.isnull().sum())\n",
    "print(test.Embarked.isnull().sum())"
   ]
  },
  {
   "cell_type": "markdown",
   "metadata": {},
   "source": [
    "#### 5.3. Skew"
   ]
  },
  {
   "cell_type": "code",
   "execution_count": 138,
   "metadata": {},
   "outputs": [
    {
     "name": "stdout",
     "output_type": "stream",
     "text": [
      "train 데이터 Age 왜도값 : 0.35958757155463517\n",
      "train 데이터 Age 왜도값 : 0.35958757155463517\n",
      "=============================================\n",
      "train 데이터 SibSp 왜도값 : 3.6891276847759507\n",
      "train 데이터 SibSp 왜도값 : 1.6584474020634181\n",
      "=============================================\n",
      "train 데이터 Parch 왜도값 : 2.7444867379203735\n",
      "train 데이터 Parch 왜도값 : 1.672617530182256\n",
      "=============================================\n",
      "train 데이터 Fare 왜도값 : 4.7792532923723545\n",
      "train 데이터 Fare 왜도값 : 0.39426283638993376\n",
      "=============================================\n",
      "train 데이터 Cabin_num 왜도값 : 2.5226207922600223\n",
      "train 데이터 Cabin_num 왜도값 : 1.6263530942733238\n",
      "=============================================\n"
     ]
    }
   ],
   "source": [
    "for i in range(len(features_num)):\n",
    "    print(f'train 데이터 {features_num[i]} 왜도값 :', skew(train[features_num[i]]))\n",
    "    if np.abs(skew(train[features_num[i]]))>1: # 왜도 절대값이 1보다 크면\n",
    "        if np.min(train[features_num[i]]) <= 0:\n",
    "            train[features_num[i]] = train[features_num[i]] + (np.min(train[features_num[i]])+1)\n",
    "            test[features_num[i]] = test[features_num[i]] + (np.min(test[features_num[i]])+1)\n",
    "        train[features_num[i]] = np.log(train[features_num[i]]) # train 루트 변환 실시\n",
    "        test[features_num[i]] = np.log(test[features_num[i]]) # test 루트 변환 실시\n",
    "    print(f'train 데이터 {features_num[i]} 왜도값 :', skew(train[features_num[i]]))\n",
    "    print('=============================================')"
   ]
  },
  {
   "cell_type": "markdown",
   "metadata": {},
   "source": [
    "#### 5.4. Outlier"
   ]
  },
  {
   "cell_type": "code",
   "execution_count": 139,
   "metadata": {},
   "outputs": [
    {
     "data": {
      "text/plain": [
       "<AxesSubplot:>"
      ]
     },
     "execution_count": 139,
     "metadata": {},
     "output_type": "execute_result"
    },
    {
     "data": {
      "image/png": "[encoded data removed]",
      "text/plain": [
       "<Figure size 432x288 with 1 Axes>"
      ]
     },
     "metadata": {},
     "output_type": "display_data"
    }
   ],
   "source": [
    "# 이상치 확인\n",
    "sns.boxplot(data=train[features_num])"
   ]
  },
  {
   "cell_type": "code",
   "execution_count": 140,
   "metadata": {},
   "outputs": [
    {
     "name": "stdout",
     "output_type": "stream",
     "text": [
      "Age  :  34    3.8 %\n",
      "SibSp  :  12    1.3 %\n",
      "Parch  :  213    23.9 %\n",
      "Fare  :  31    3.5 %\n",
      "Cabin_num  :  204    22.9 %\n"
     ]
    }
   ],
   "source": [
    "# 이상치 개수 확인 함수 생성\n",
    "def outlier_count(df, col):\n",
    "    q25 = np.quantile(df[col], 0.25)\n",
    "    q75 = np.quantile(df[col], 0.75)\n",
    "    \n",
    "    iqr = q75-q25\n",
    "    cut_off = iqr*1.5\n",
    "    \n",
    "    lower = q25-cut_off\n",
    "    upper = q75+cut_off\n",
    "    \n",
    "    df1 = df[df[col]>upper]\n",
    "    df2 = df[df[col]<lower]\n",
    "    \n",
    "    return df1.shape[0]+df2.shape[0]\n",
    "\n",
    "# 이상치 개수 확인\n",
    "for i in range(len(features_num)):\n",
    "    print(features_num[i],\" : \", outlier_count(train,features_num[i]),\"  \", round(outlier_count(train,features_num[i])/len(train)*100,1),\"%\")"
   ]
  },
  {
   "cell_type": "code",
   "execution_count": 141,
   "metadata": {},
   "outputs": [
    {
     "data": {
      "text/plain": [
       "'\\n# 이상치 제거\\ntrain[features_num] = train[features_num].apply(lambda x: x.clip(x.quantile(.05), x.quantile(.95)), axis=0)\\n'"
      ]
     },
     "execution_count": 141,
     "metadata": {},
     "output_type": "execute_result"
    }
   ],
   "source": [
    "'''\n",
    "# 이상치 제거\n",
    "train[features_num] = train[features_num].apply(lambda x: x.clip(x.quantile(.05), x.quantile(.95)), axis=0)\n",
    "'''"
   ]
  },
  {
   "cell_type": "code",
   "execution_count": 142,
   "metadata": {},
   "outputs": [
    {
     "name": "stdout",
     "output_type": "stream",
     "text": [
      "Age  :  34    3.8 %\n",
      "SibSp  :  12    1.3 %\n",
      "Parch  :  213    23.9 %\n",
      "Fare  :  31    3.5 %\n",
      "Cabin_num  :  204    22.9 %\n"
     ]
    },
    {
     "data": {
      "image/png": "[encoded data removed]",
      "text/plain": [
       "<Figure size 432x288 with 1 Axes>"
      ]
     },
     "metadata": {},
     "output_type": "display_data"
    }
   ],
   "source": [
    "# 최종 이상치 확인\n",
    "sns.boxplot(data=train[features_num])\n",
    "\n",
    "for i in range(len(features_num)):\n",
    "    print(features_num[i],\" : \", outlier_count(train,features_num[i]),\"  \", round(outlier_count(train,features_num[i])/len(train)*100,1),\"%\")"
   ]
  },
  {
   "cell_type": "markdown",
   "metadata": {},
   "source": [
    "#### 5.5. Scaling"
   ]
  },
  {
   "cell_type": "code",
   "execution_count": 143,
   "metadata": {},
   "outputs": [],
   "source": [
    "scaler = StandardScaler()\n",
    "train[features_num] = scaler.fit_transform(train[features_num])\n",
    "test[features_num] = scaler.transform(test[features_num])"
   ]
  },
  {
   "cell_type": "markdown",
   "metadata": {},
   "source": [
    "#### 5.6. Encoding"
   ]
  },
  {
   "cell_type": "code",
   "execution_count": 144,
   "metadata": {},
   "outputs": [],
   "source": [
    "# train, test 병합\n",
    "df = pd.concat([train, test])"
   ]
  },
  {
   "cell_type": "code",
   "execution_count": 145,
   "metadata": {
    "scrolled": false
   },
   "outputs": [],
   "source": [
    "# 라벨 인코딩 실시\n",
    "le = LabelEncoder() # LabelEncoder 불러오기\n",
    "\n",
    "for feature in features_cat:\n",
    "    le.fit(df[feature])\n",
    "    df[feature] = le.transform(df[feature])"
   ]
  },
  {
   "cell_type": "code",
   "execution_count": 146,
   "metadata": {},
   "outputs": [
    {
     "data": {
      "text/plain": [
       "\"\\n# 원핫 인코딩 실시\\nohe = OneHotEncoder(sparse=False) # OneHotEncoder 불러오기\\n\\nfor i in range(len(features_cat_ohe)):\\n    cat_ohe = ohe.fit_transform(df[[features_cat_ohe[i]]]).astype(int)\\n    df_ohe = pd.DataFrame(cat_ohe, columns=features_cat_ohe[i]+'_'+ohe.categories_[0])\\n    df = pd.concat([df.reset_index(), df_ohe], axis=1)\\n    df = df.set_index('PassengerId')\\n    df.drop([features_cat_ohe[i]], axis=1, inplace=True)\\n\""
      ]
     },
     "execution_count": 146,
     "metadata": {},
     "output_type": "execute_result"
    }
   ],
   "source": [
    "'''\n",
    "# 원핫 인코딩 실시\n",
    "ohe = OneHotEncoder(sparse=False) # OneHotEncoder 불러오기\n",
    "\n",
    "for i in range(len(features_cat_ohe)):\n",
    "    cat_ohe = ohe.fit_transform(df[[features_cat_ohe[i]]]).astype(int)\n",
    "    df_ohe = pd.DataFrame(cat_ohe, columns=features_cat_ohe[i]+'_'+ohe.categories_[0])\n",
    "    df = pd.concat([df.reset_index(), df_ohe], axis=1)\n",
    "    df = df.set_index('PassengerId')\n",
    "    df.drop([features_cat_ohe[i]], axis=1, inplace=True)\n",
    "'''"
   ]
  },
  {
   "cell_type": "code",
   "execution_count": 147,
   "metadata": {},
   "outputs": [],
   "source": [
    "# df에서 train, test 분리\n",
    "train = df[:len(train)]\n",
    "test = df[len(train):].drop(['Survived'], axis=1) # test에서 Target 제거"
   ]
  },
  {
   "cell_type": "markdown",
   "metadata": {},
   "source": [
    "### 6. Feature Create"
   ]
  },
  {
   "cell_type": "code",
   "execution_count": 209,
   "metadata": {},
   "outputs": [
    {
     "data": {
      "text/html": [
       "<div>\n",
       "<style scoped>\n",
       "    .dataframe tbody tr th:only-of-type {\n",
       "        vertical-align: middle;\n",
       "    }\n",
       "\n",
       "    .dataframe tbody tr th {\n",
       "        vertical-align: top;\n",
       "    }\n",
       "\n",
       "    .dataframe thead th {\n",
       "        text-align: right;\n",
       "    }\n",
       "</style>\n",
       "<table border=\"1\" class=\"dataframe\">\n",
       "  <thead>\n",
       "    <tr style=\"text-align: right;\">\n",
       "      <th></th>\n",
       "      <th>Survived</th>\n",
       "      <th>Pclass</th>\n",
       "      <th>Sex</th>\n",
       "      <th>Age</th>\n",
       "      <th>SibSp</th>\n",
       "      <th>Parch</th>\n",
       "      <th>Fare</th>\n",
       "      <th>Embarked</th>\n",
       "      <th>Title</th>\n",
       "      <th>Ticket_type</th>\n",
       "      <th>Cabin_nan</th>\n",
       "      <th>Cabin_num</th>\n",
       "      <th>Cabin_type</th>\n",
       "      <th>Age_type</th>\n",
       "      <th>Family_num</th>\n",
       "    </tr>\n",
       "    <tr>\n",
       "      <th>PassengerId</th>\n",
       "      <th></th>\n",
       "      <th></th>\n",
       "      <th></th>\n",
       "      <th></th>\n",
       "      <th></th>\n",
       "      <th></th>\n",
       "      <th></th>\n",
       "      <th></th>\n",
       "      <th></th>\n",
       "      <th></th>\n",
       "      <th></th>\n",
       "      <th></th>\n",
       "      <th></th>\n",
       "      <th></th>\n",
       "      <th></th>\n",
       "    </tr>\n",
       "  </thead>\n",
       "  <tbody>\n",
       "    <tr>\n",
       "      <th>1</th>\n",
       "      <td>0.0</td>\n",
       "      <td>2</td>\n",
       "      <td>1</td>\n",
       "      <td>-0.584402</td>\n",
       "      <td>0.889164</td>\n",
       "      <td>-0.529060</td>\n",
       "      <td>-0.879741</td>\n",
       "      <td>2</td>\n",
       "      <td>3</td>\n",
       "      <td>1</td>\n",
       "      <td>0</td>\n",
       "      <td>-0.526348</td>\n",
       "      <td>8</td>\n",
       "      <td>2</td>\n",
       "      <td>1.360104</td>\n",
       "    </tr>\n",
       "    <tr>\n",
       "      <th>2</th>\n",
       "      <td>1.0</td>\n",
       "      <td>0</td>\n",
       "      <td>0</td>\n",
       "      <td>0.621313</td>\n",
       "      <td>0.889164</td>\n",
       "      <td>-0.529060</td>\n",
       "      <td>1.361220</td>\n",
       "      <td>0</td>\n",
       "      <td>4</td>\n",
       "      <td>1</td>\n",
       "      <td>1</td>\n",
       "      <td>1.586127</td>\n",
       "      <td>2</td>\n",
       "      <td>3</td>\n",
       "      <td>1.360104</td>\n",
       "    </tr>\n",
       "    <tr>\n",
       "      <th>3</th>\n",
       "      <td>1.0</td>\n",
       "      <td>2</td>\n",
       "      <td>0</td>\n",
       "      <td>-0.282973</td>\n",
       "      <td>-0.609279</td>\n",
       "      <td>-0.529060</td>\n",
       "      <td>-0.798540</td>\n",
       "      <td>2</td>\n",
       "      <td>2</td>\n",
       "      <td>1</td>\n",
       "      <td>0</td>\n",
       "      <td>-0.526348</td>\n",
       "      <td>8</td>\n",
       "      <td>2</td>\n",
       "      <td>-0.138340</td>\n",
       "    </tr>\n",
       "    <tr>\n",
       "      <th>4</th>\n",
       "      <td>1.0</td>\n",
       "      <td>0</td>\n",
       "      <td>0</td>\n",
       "      <td>0.395242</td>\n",
       "      <td>0.889164</td>\n",
       "      <td>-0.529060</td>\n",
       "      <td>1.062038</td>\n",
       "      <td>2</td>\n",
       "      <td>4</td>\n",
       "      <td>0</td>\n",
       "      <td>1</td>\n",
       "      <td>1.586127</td>\n",
       "      <td>2</td>\n",
       "      <td>3</td>\n",
       "      <td>1.360104</td>\n",
       "    </tr>\n",
       "    <tr>\n",
       "      <th>5</th>\n",
       "      <td>0.0</td>\n",
       "      <td>2</td>\n",
       "      <td>1</td>\n",
       "      <td>0.395242</td>\n",
       "      <td>-0.609279</td>\n",
       "      <td>-0.529060</td>\n",
       "      <td>-0.784179</td>\n",
       "      <td>2</td>\n",
       "      <td>3</td>\n",
       "      <td>0</td>\n",
       "      <td>0</td>\n",
       "      <td>-0.526348</td>\n",
       "      <td>8</td>\n",
       "      <td>3</td>\n",
       "      <td>-0.138340</td>\n",
       "    </tr>\n",
       "    <tr>\n",
       "      <th>...</th>\n",
       "      <td>...</td>\n",
       "      <td>...</td>\n",
       "      <td>...</td>\n",
       "      <td>...</td>\n",
       "      <td>...</td>\n",
       "      <td>...</td>\n",
       "      <td>...</td>\n",
       "      <td>...</td>\n",
       "      <td>...</td>\n",
       "      <td>...</td>\n",
       "      <td>...</td>\n",
       "      <td>...</td>\n",
       "      <td>...</td>\n",
       "      <td>...</td>\n",
       "      <td>...</td>\n",
       "    </tr>\n",
       "    <tr>\n",
       "      <th>887</th>\n",
       "      <td>0.0</td>\n",
       "      <td>1</td>\n",
       "      <td>1</td>\n",
       "      <td>-0.207616</td>\n",
       "      <td>-0.609279</td>\n",
       "      <td>-0.529060</td>\n",
       "      <td>-0.333698</td>\n",
       "      <td>2</td>\n",
       "      <td>0</td>\n",
       "      <td>0</td>\n",
       "      <td>0</td>\n",
       "      <td>-0.526348</td>\n",
       "      <td>8</td>\n",
       "      <td>2</td>\n",
       "      <td>-0.138340</td>\n",
       "    </tr>\n",
       "    <tr>\n",
       "      <th>888</th>\n",
       "      <td>1.0</td>\n",
       "      <td>0</td>\n",
       "      <td>0</td>\n",
       "      <td>-0.810474</td>\n",
       "      <td>-0.609279</td>\n",
       "      <td>-0.529060</td>\n",
       "      <td>0.487082</td>\n",
       "      <td>2</td>\n",
       "      <td>2</td>\n",
       "      <td>0</td>\n",
       "      <td>1</td>\n",
       "      <td>1.586127</td>\n",
       "      <td>1</td>\n",
       "      <td>1</td>\n",
       "      <td>-0.138340</td>\n",
       "    </tr>\n",
       "    <tr>\n",
       "      <th>889</th>\n",
       "      <td>0.0</td>\n",
       "      <td>2</td>\n",
       "      <td>0</td>\n",
       "      <td>-0.601435</td>\n",
       "      <td>0.889164</td>\n",
       "      <td>2.141043</td>\n",
       "      <td>0.242007</td>\n",
       "      <td>2</td>\n",
       "      <td>2</td>\n",
       "      <td>1</td>\n",
       "      <td>0</td>\n",
       "      <td>-0.526348</td>\n",
       "      <td>8</td>\n",
       "      <td>8</td>\n",
       "      <td>4.030207</td>\n",
       "    </tr>\n",
       "    <tr>\n",
       "      <th>890</th>\n",
       "      <td>1.0</td>\n",
       "      <td>0</td>\n",
       "      <td>1</td>\n",
       "      <td>-0.282973</td>\n",
       "      <td>-0.609279</td>\n",
       "      <td>-0.529060</td>\n",
       "      <td>0.487082</td>\n",
       "      <td>0</td>\n",
       "      <td>3</td>\n",
       "      <td>0</td>\n",
       "      <td>1</td>\n",
       "      <td>1.586127</td>\n",
       "      <td>2</td>\n",
       "      <td>2</td>\n",
       "      <td>-0.138340</td>\n",
       "    </tr>\n",
       "    <tr>\n",
       "      <th>891</th>\n",
       "      <td>0.0</td>\n",
       "      <td>2</td>\n",
       "      <td>1</td>\n",
       "      <td>0.169170</td>\n",
       "      <td>-0.609279</td>\n",
       "      <td>-0.529060</td>\n",
       "      <td>-0.818987</td>\n",
       "      <td>1</td>\n",
       "      <td>3</td>\n",
       "      <td>0</td>\n",
       "      <td>0</td>\n",
       "      <td>-0.526348</td>\n",
       "      <td>8</td>\n",
       "      <td>3</td>\n",
       "      <td>-0.138340</td>\n",
       "    </tr>\n",
       "  </tbody>\n",
       "</table>\n",
       "<p>891 rows × 15 columns</p>\n",
       "</div>"
      ],
      "text/plain": [
       "             Survived  Pclass  Sex       Age     SibSp     Parch      Fare  \\\n",
       "PassengerId                                                                  \n",
       "1                 0.0       2    1 -0.584402  0.889164 -0.529060 -0.879741   \n",
       "2                 1.0       0    0  0.621313  0.889164 -0.529060  1.361220   \n",
       "3                 1.0       2    0 -0.282973 -0.609279 -0.529060 -0.798540   \n",
       "4                 1.0       0    0  0.395242  0.889164 -0.529060  1.062038   \n",
       "5                 0.0       2    1  0.395242 -0.609279 -0.529060 -0.784179   \n",
       "...               ...     ...  ...       ...       ...       ...       ...   \n",
       "887               0.0       1    1 -0.207616 -0.609279 -0.529060 -0.333698   \n",
       "888               1.0       0    0 -0.810474 -0.609279 -0.529060  0.487082   \n",
       "889               0.0       2    0 -0.601435  0.889164  2.141043  0.242007   \n",
       "890               1.0       0    1 -0.282973 -0.609279 -0.529060  0.487082   \n",
       "891               0.0       2    1  0.169170 -0.609279 -0.529060 -0.818987   \n",
       "\n",
       "             Embarked  Title  Ticket_type  Cabin_nan  Cabin_num  Cabin_type  \\\n",
       "PassengerId                                                                   \n",
       "1                   2      3            1          0  -0.526348           8   \n",
       "2                   0      4            1          1   1.586127           2   \n",
       "3                   2      2            1          0  -0.526348           8   \n",
       "4                   2      4            0          1   1.586127           2   \n",
       "5                   2      3            0          0  -0.526348           8   \n",
       "...               ...    ...          ...        ...        ...         ...   \n",
       "887                 2      0            0          0  -0.526348           8   \n",
       "888                 2      2            0          1   1.586127           1   \n",
       "889                 2      2            1          0  -0.526348           8   \n",
       "890                 0      3            0          1   1.586127           2   \n",
       "891                 1      3            0          0  -0.526348           8   \n",
       "\n",
       "             Age_type  Family_num  \n",
       "PassengerId                        \n",
       "1                   2    1.360104  \n",
       "2                   3    1.360104  \n",
       "3                   2   -0.138340  \n",
       "4                   3    1.360104  \n",
       "5                   3   -0.138340  \n",
       "...               ...         ...  \n",
       "887                 2   -0.138340  \n",
       "888                 1   -0.138340  \n",
       "889                 8    4.030207  \n",
       "890                 2   -0.138340  \n",
       "891                 3   -0.138340  \n",
       "\n",
       "[891 rows x 15 columns]"
      ]
     },
     "execution_count": 209,
     "metadata": {},
     "output_type": "execute_result"
    }
   ],
   "source": [
    "train['Family_num'] = train['SibSp'] + train['Parch'] + 1\n",
    "test['Family_num'] = test['SibSp'] + test['Parch'] + 1"
   ]
  },
  {
   "cell_type": "markdown",
   "metadata": {},
   "source": [
    "### 7. Baseline"
   ]
  },
  {
   "cell_type": "markdown",
   "metadata": {},
   "source": [
    "#### 7.1. Settings"
   ]
  },
  {
   "cell_type": "code",
   "execution_count": 148,
   "metadata": {},
   "outputs": [
    {
     "data": {
      "text/plain": [
       "Index(['Pclass', 'Sex', 'Age', 'SibSp', 'Parch', 'Fare', 'Embarked', 'Title',\n",
       "       'Ticket_type', 'Cabin_nan', 'Cabin_num', 'Cabin_type', 'Age_type'],\n",
       "      dtype='object')"
      ]
     },
     "execution_count": 148,
     "metadata": {},
     "output_type": "execute_result"
    }
   ],
   "source": [
    "features = train.drop(['Survived'], axis=1).columns\n",
    "features"
   ]
  },
  {
   "cell_type": "code",
   "execution_count": 149,
   "metadata": {},
   "outputs": [],
   "source": [
    "X_train = train[features]\n",
    "X_test = test[features]\n",
    "y_train = train['Survived']"
   ]
  },
  {
   "cell_type": "code",
   "execution_count": 151,
   "metadata": {},
   "outputs": [],
   "source": [
    "train_id = train.reset_index()['PassengerId']\n",
    "test_id = test.reset_index()['PassengerId']"
   ]
  },
  {
   "cell_type": "markdown",
   "metadata": {},
   "source": [
    "#### 7.2. Modeling"
   ]
  },
  {
   "cell_type": "code",
   "execution_count": 154,
   "metadata": {},
   "outputs": [],
   "source": [
    "# train & valid split\n",
    "valid_rate = len(X_test)/len(X_train)\n",
    "X_train_split, X_valid, y_train_split, y_valid = train_test_split(X_train, y_train, test_size=valid_rate, random_state=5)"
   ]
  },
  {
   "cell_type": "code",
   "execution_count": 207,
   "metadata": {
    "scrolled": true
   },
   "outputs": [
    {
     "name": "stdout",
     "output_type": "stream",
     "text": [
      "train_score : 0.83289\n",
      "valid_score : 0.8134\n"
     ]
    }
   ],
   "source": [
    "lgbm = LGBMClassifier()\n",
    "lgbm.fit(X_train_split, y_train_split)\n",
    "train_score = cross_val_score(lgbm, X_train_split, y_train_split, cv=3, scoring='accuracy')\n",
    "print('train_score :', round(train_score.mean(),5))\n",
    "print('valid_score :', round(lgbm.score(X_valid, y_valid),5))"
   ]
  },
  {
   "cell_type": "markdown",
   "metadata": {},
   "source": [
    "#### 7.3. Feature Select with Shap"
   ]
  },
  {
   "cell_type": "code",
   "execution_count": 159,
   "metadata": {},
   "outputs": [],
   "source": [
    "explainer = shap.TreeExplainer(lgbm)\n",
    "shap_values = explainer.shap_values(X_test)"
   ]
  },
  {
   "cell_type": "code",
   "execution_count": 160,
   "metadata": {},
   "outputs": [
    {
     "data": {
      "image/png": "[encoded data removed]",
      "text/plain": [
       "<Figure size 576x482.4 with 1 Axes>"
      ]
     },
     "metadata": {},
     "output_type": "display_data"
    }
   ],
   "source": [
    "shap.summary_plot(shap_values, X_test, max_display=20) # max_display : 그래프에 보여줄 피쳐 수"
   ]
  },
  {
   "cell_type": "code",
   "execution_count": 196,
   "metadata": {},
   "outputs": [
    {
     "data": {
      "text/html": [
       "<div>\n",
       "<style scoped>\n",
       "    .dataframe tbody tr th:only-of-type {\n",
       "        vertical-align: middle;\n",
       "    }\n",
       "\n",
       "    .dataframe tbody tr th {\n",
       "        vertical-align: top;\n",
       "    }\n",
       "\n",
       "    .dataframe thead th {\n",
       "        text-align: right;\n",
       "    }\n",
       "</style>\n",
       "<table border=\"1\" class=\"dataframe\">\n",
       "  <thead>\n",
       "    <tr style=\"text-align: right;\">\n",
       "      <th></th>\n",
       "      <th>col_name</th>\n",
       "      <th>shap_values</th>\n",
       "    </tr>\n",
       "  </thead>\n",
       "  <tbody>\n",
       "    <tr>\n",
       "      <th>1</th>\n",
       "      <td>Sex</td>\n",
       "      <td>2.72186</td>\n",
       "    </tr>\n",
       "    <tr>\n",
       "      <th>2</th>\n",
       "      <td>Age</td>\n",
       "      <td>1.39321</td>\n",
       "    </tr>\n",
       "    <tr>\n",
       "      <th>5</th>\n",
       "      <td>Fare</td>\n",
       "      <td>1.26804</td>\n",
       "    </tr>\n",
       "    <tr>\n",
       "      <th>0</th>\n",
       "      <td>Pclass</td>\n",
       "      <td>0.986967</td>\n",
       "    </tr>\n",
       "    <tr>\n",
       "      <th>6</th>\n",
       "      <td>Embarked</td>\n",
       "      <td>0.696427</td>\n",
       "    </tr>\n",
       "    <tr>\n",
       "      <th>7</th>\n",
       "      <td>Title</td>\n",
       "      <td>0.642608</td>\n",
       "    </tr>\n",
       "    <tr>\n",
       "      <th>11</th>\n",
       "      <td>Cabin_type</td>\n",
       "      <td>0.562885</td>\n",
       "    </tr>\n",
       "    <tr>\n",
       "      <th>4</th>\n",
       "      <td>Parch</td>\n",
       "      <td>0.495814</td>\n",
       "    </tr>\n",
       "    <tr>\n",
       "      <th>12</th>\n",
       "      <td>Age_type</td>\n",
       "      <td>0.394791</td>\n",
       "    </tr>\n",
       "    <tr>\n",
       "      <th>3</th>\n",
       "      <td>SibSp</td>\n",
       "      <td>0.391573</td>\n",
       "    </tr>\n",
       "    <tr>\n",
       "      <th>8</th>\n",
       "      <td>Ticket_type</td>\n",
       "      <td>0.331706</td>\n",
       "    </tr>\n",
       "    <tr>\n",
       "      <th>9</th>\n",
       "      <td>Cabin_nan</td>\n",
       "      <td>0.0383255</td>\n",
       "    </tr>\n",
       "    <tr>\n",
       "      <th>10</th>\n",
       "      <td>Cabin_num</td>\n",
       "      <td>0</td>\n",
       "    </tr>\n",
       "  </tbody>\n",
       "</table>\n",
       "</div>"
      ],
      "text/plain": [
       "       col_name shap_values\n",
       "1           Sex     2.72186\n",
       "2           Age     1.39321\n",
       "5          Fare     1.26804\n",
       "0        Pclass    0.986967\n",
       "6      Embarked    0.696427\n",
       "7         Title    0.642608\n",
       "11   Cabin_type    0.562885\n",
       "4         Parch    0.495814\n",
       "12     Age_type    0.394791\n",
       "3         SibSp    0.391573\n",
       "8   Ticket_type    0.331706\n",
       "9     Cabin_nan   0.0383255\n",
       "10    Cabin_num           0"
      ]
     },
     "execution_count": 196,
     "metadata": {},
     "output_type": "execute_result"
    }
   ],
   "source": [
    "shap_sum = np.abs(shap_values).mean(axis=0).mean(axis=0)*2\n",
    "importance_df = pd.DataFrame([X_test.columns.tolist(), shap_sum.tolist()]).T\n",
    "importance_df.columns = ['col_name', 'shap_values']\n",
    "importance_df = importance_df.sort_values('shap_values', ascending=False)\n",
    "importance_df"
   ]
  },
  {
   "cell_type": "code",
   "execution_count": null,
   "metadata": {},
   "outputs": [],
   "source": [
    "# importance_df[importance_df['col_name']=='F3TZASCIERN']"
   ]
  },
  {
   "cell_type": "markdown",
   "metadata": {},
   "source": [
    "#### 7.4. Pickle Save"
   ]
  },
  {
   "cell_type": "code",
   "execution_count": 206,
   "metadata": {},
   "outputs": [
    {
     "name": "stdout",
     "output_type": "stream",
     "text": [
      "초기 피쳐 수 : 13\n",
      "shap_value 기반 피쳐 수 : 13\n",
      "p1_data_13.pkl is ready to submit.\n"
     ]
    }
   ],
   "source": [
    "# 단일 pickle 파일 생성\n",
    "print('초기 피쳐 수 :', len(features))\n",
    "features_shap = importance_df.query('shap_values > 0').col_name.tolist() # shap_value 기준 컬럼 선택\n",
    "print('shap_value 기반 피쳐 수 :', len(features_shap))\n",
    "\n",
    "X_train_shap = X_train[features_shap]\n",
    "X_test_shap = X_test[features_shap]\n",
    "\n",
    "# pickle 형식으로 저장\n",
    "org_data = (X_train_shap, y_train, X_test_shap, test_id)\n",
    "with open(f'p1_data_{len(features_shap)}.pkl', 'wb') as f:\n",
    "    pickle.dump(org_data, f)\n",
    "print(f'p1_data_{len(features_shap)}.pkl is ready to submit.')"
   ]
  },
  {
   "cell_type": "code",
   "execution_count": null,
   "metadata": {},
   "outputs": [],
   "source": [
    "'''\n",
    "# 다수 pickle 파일 생성\n",
    "for i in range(0,100,1):\n",
    "    i = i/100\n",
    "    #print('초기 피쳐 수 :', len(features))\n",
    "    features_shap = importance_df.query(f'shap_values > {i}').col_name.tolist() # shap_value 기준 컬럼 선택\n",
    "    #print('shap_value 기반 피쳐 수 :', len(features_shap))\n",
    "    \n",
    "    X_train_shap = X_train[features_shap]\n",
    "    X_test_shap = X_test[features_shap]\n",
    "    \n",
    "    # pickle 형식으로 저장\n",
    "    org_data = (X_train_shap, y_train, X_test_shap, test_id)\n",
    "    with open(f'p1_1_data_{len(features_shap)}.pkl', 'wb') as f:\n",
    "        pickle.dump(org_data, f)\n",
    "    print(f'p1_1_data_{len(features_shap)}.pkl is ready to submit.')\n",
    "'''"
   ]
  }
 ],
 "metadata": {
  "kernelspec": {
   "display_name": "Python 3",
   "language": "python",
   "name": "python3"
  },
  "language_info": {
   "codemirror_mode": {
    "name": "ipython",
    "version": 3
   },
   "file_extension": ".py",
   "mimetype": "text/x-python",
   "name": "python",
   "nbconvert_exporter": "python",
   "pygments_lexer": "ipython3",
   "version": "3.8.5"
  }
 },
 "nbformat": 4,
 "nbformat_minor": 5
}
